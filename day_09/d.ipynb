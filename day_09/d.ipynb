{
 "cells": [
  {
   "cell_type": "code",
   "execution_count": 2,
   "metadata": {},
   "outputs": [
    {
     "name": "stdout",
     "output_type": "stream",
     "text": [
      "Dav3whit3 : 18*\n"
     ]
    }
   ],
   "source": [
    "import sys\n",
    "sys.path.append('/Users/davidblanco/Documents/personal/Advent_of_Code_2021')\n",
    "from utils.tools import input_parser, current_stars, open_exercise_instructions\n",
    "\n",
    "def solution_part1():\n",
    "    pass\n",
    "\n",
    "def solution_part2():\n",
    "    pass\n",
    "\n",
    "\n",
    "\n",
    "\n",
    "day = 9\n",
    "# open_exercise_instructions(day)\n",
    "data = input_parser(day=day)\n",
    "data = [[int(val) for val in row] for row in data]\n",
    "sys.setrecursionlimit(len(data) + 3)\n",
    "# print(f\"Solution Part 1: {solution_part1(data)}\")\n",
    "# print(f\"Solution Part 2: {solution_part2(data)}\")\n",
    "print(current_stars())"
   ]
  },
  {
   "cell_type": "code",
   "execution_count": 5,
   "metadata": {},
   "outputs": [],
   "source": [
    "def check_edge_point(x, y):\n",
    "    \n",
    "    \n",
    "    pass\n",
    "\n",
    "def check_corner_point(coord):\n",
    "\n",
    "    output = []\n",
    "\n",
    "    tl_corner = coord[0][0]\n",
    "    if tl_corner < coord[0][1] and tl_corner < coord[1][0]:\n",
    "        return True\n",
    "    \n",
    "    tr_corner = coord[0][-1]\n",
    "    if tr_corner < coord[0][-2] and tr_corner < coord[1][-1]:\n",
    "        return True\n",
    "\n",
    "    bl_corner = coord[-1][0]\n",
    "    if bl_corner < coord[-2][0] and bl_corner < coord[-1][1]:\n",
    "        return True\n",
    "\n",
    "    br_corner = coord[-1][-1]\n",
    "    if br_corner < coord[-1][-2] and br_corner < coord[-2][-1]:\n",
    "        return True\n",
    "\n",
    "    \n",
    "    return output\n"
   ]
  },
  {
   "cell_type": "code",
   "execution_count": 7,
   "metadata": {},
   "outputs": [
    {
     "data": {
      "text/plain": [
       "[[2, 1, 9, 9, 9, 4, 3, 2, 1, 0],\n",
       " [3, 9, 8, 7, 8, 9, 4, 9, 2, 1],\n",
       " [9, 8, 5, 6, 7, 8, 9, 8, 9, 2],\n",
       " [8, 7, 6, 7, 8, 9, 6, 7, 8, 9],\n",
       " [9, 8, 9, 9, 9, 6, 5, 6, 7, 8]]"
      ]
     },
     "execution_count": 7,
     "metadata": {},
     "output_type": "execute_result"
    }
   ],
   "source": [
    "example = [\n",
    "    2199943210,\n",
    "    3987894921,\n",
    "    9856789892,\n",
    "    8767896789,\n",
    "    9899965678,\n",
    "]\n",
    "\n",
    "example = [[int(v) for v in str(n)] for n in example]\n",
    "example\n"
   ]
  },
  {
   "cell_type": "code",
   "execution_count": 8,
   "metadata": {},
   "outputs": [
    {
     "data": {
      "text/plain": [
       "[0]"
      ]
     },
     "execution_count": 8,
     "metadata": {},
     "output_type": "execute_result"
    }
   ],
   "source": [
    "check_corner_point(example)"
   ]
  },
  {
   "cell_type": "code",
   "execution_count": 28,
   "metadata": {},
   "outputs": [],
   "source": [
    "def solution_part1(matrix):\n",
    "\n",
    "    result = []\n",
    "\n",
    "    for x, row in enumerate(matrix):\n",
    "        for y, number in enumerate(row):\n",
    "            if x == 0:\n",
    "                if y == 0: # Top-left corner\n",
    "                    result.append(number) if number < matrix[0][1] and number < matrix[1][0] else None\n",
    "                elif y == -1: # Top-right corner\n",
    "                    result.append(number) if number < matrix[0][-2] and number < matrix[1][-1] else None\n",
    "                else: # In between\n",
    "                    print(x, y)\n",
    "                    result.append(number) if number < matrix[x][y-1] and number < matrix[x][y+1] and number < matrix[x+1][y] else None\n",
    "\n",
    "            elif x == -1:\n",
    "                if y == 0: # Bottom-left corner\n",
    "                    result.append(number) if number < matrix[-2][0] and number < matrix[-1][1] else None\n",
    "                elif y == -1: # Bottom-right corner\n",
    "                    result.append(number) if number < matrix[-1][-2] and number < matrix[-2][-1] else None\n",
    "                else: # In between\n",
    "                    result.append(number) if number < matrix[x][y-1] and number < matrix[x][y+1] and number < matrix[x-1][y] else None\n",
    "\n",
    "            else: # Inner\n",
    "                if y == 0:\n",
    "                    result.append(number) if number < matrix[x-1][y] and number < matrix[x+1][y] and number < matrix[x][y+1] else None\n",
    "                elif y == -1:\n",
    "                    result.append(number) if number < matrix[x-1][1] and number < matrix[x+1][y] and number < matrix[x][y-1] else None\n",
    "                else:\n",
    "                    is_lowest = check_inner_point(matrix, x, y)\n",
    "                    result.append(is_lowest) if is_lowest else None\n",
    "    \n",
    "    return result"
   ]
  },
  {
   "cell_type": "code",
   "execution_count": 29,
   "metadata": {},
   "outputs": [],
   "source": [
    "def check_inner_point(matrix, x, y):\n",
    "    \n",
    "    point = matrix[x][y]\n",
    "    return True if point < matrix[x][y-1] and point < matrix[x][y+1] and point < matrix[x-1][y] and point < matrix[x+1][y] else False"
   ]
  },
  {
   "cell_type": "code",
   "execution_count": 30,
   "metadata": {},
   "outputs": [
    {
     "name": "stdout",
     "output_type": "stream",
     "text": [
      "0 1\n",
      "0 2\n",
      "0 3\n",
      "0 4\n",
      "0 5\n",
      "0 6\n",
      "0 7\n",
      "0 8\n",
      "0 9\n"
     ]
    },
    {
     "ename": "IndexError",
     "evalue": "list index out of range",
     "output_type": "error",
     "traceback": [
      "\u001b[0;31m---------------------------------------------------------------------------\u001b[0m",
      "\u001b[0;31mIndexError\u001b[0m                                Traceback (most recent call last)",
      "\u001b[0;32m/var/folders/kw/6g1n94mj3b5f41f08z_b7wx40000gn/T/ipykernel_8913/3138127054.py\u001b[0m in \u001b[0;36m<module>\u001b[0;34m\u001b[0m\n\u001b[0;32m----> 1\u001b[0;31m \u001b[0msolution_part1\u001b[0m\u001b[0;34m(\u001b[0m\u001b[0mexample\u001b[0m\u001b[0;34m)\u001b[0m\u001b[0;34m\u001b[0m\u001b[0;34m\u001b[0m\u001b[0m\n\u001b[0m",
      "\u001b[0;32m/var/folders/kw/6g1n94mj3b5f41f08z_b7wx40000gn/T/ipykernel_8913/2113451368.py\u001b[0m in \u001b[0;36msolution_part1\u001b[0;34m(matrix)\u001b[0m\n\u001b[1;32m     12\u001b[0m                 \u001b[0;32melse\u001b[0m\u001b[0;34m:\u001b[0m \u001b[0;31m# In between\u001b[0m\u001b[0;34m\u001b[0m\u001b[0;34m\u001b[0m\u001b[0m\n\u001b[1;32m     13\u001b[0m                     \u001b[0mprint\u001b[0m\u001b[0;34m(\u001b[0m\u001b[0mx\u001b[0m\u001b[0;34m,\u001b[0m \u001b[0my\u001b[0m\u001b[0;34m)\u001b[0m\u001b[0;34m\u001b[0m\u001b[0;34m\u001b[0m\u001b[0m\n\u001b[0;32m---> 14\u001b[0;31m                     \u001b[0mresult\u001b[0m\u001b[0;34m.\u001b[0m\u001b[0mappend\u001b[0m\u001b[0;34m(\u001b[0m\u001b[0mnumber\u001b[0m\u001b[0;34m)\u001b[0m \u001b[0;32mif\u001b[0m \u001b[0mnumber\u001b[0m \u001b[0;34m<\u001b[0m \u001b[0mmatrix\u001b[0m\u001b[0;34m[\u001b[0m\u001b[0mx\u001b[0m\u001b[0;34m]\u001b[0m\u001b[0;34m[\u001b[0m\u001b[0my\u001b[0m\u001b[0;34m-\u001b[0m\u001b[0;36m1\u001b[0m\u001b[0;34m]\u001b[0m \u001b[0;32mand\u001b[0m \u001b[0mnumber\u001b[0m \u001b[0;34m<\u001b[0m \u001b[0mmatrix\u001b[0m\u001b[0;34m[\u001b[0m\u001b[0mx\u001b[0m\u001b[0;34m]\u001b[0m\u001b[0;34m[\u001b[0m\u001b[0my\u001b[0m\u001b[0;34m+\u001b[0m\u001b[0;36m1\u001b[0m\u001b[0;34m]\u001b[0m \u001b[0;32mand\u001b[0m \u001b[0mnumber\u001b[0m \u001b[0;34m<\u001b[0m \u001b[0mmatrix\u001b[0m\u001b[0;34m[\u001b[0m\u001b[0mx\u001b[0m\u001b[0;34m+\u001b[0m\u001b[0;36m1\u001b[0m\u001b[0;34m]\u001b[0m\u001b[0;34m[\u001b[0m\u001b[0my\u001b[0m\u001b[0;34m]\u001b[0m \u001b[0;32melse\u001b[0m \u001b[0;32mNone\u001b[0m\u001b[0;34m\u001b[0m\u001b[0;34m\u001b[0m\u001b[0m\n\u001b[0m\u001b[1;32m     15\u001b[0m \u001b[0;34m\u001b[0m\u001b[0m\n\u001b[1;32m     16\u001b[0m             \u001b[0;32melif\u001b[0m \u001b[0mx\u001b[0m \u001b[0;34m==\u001b[0m \u001b[0;34m-\u001b[0m\u001b[0;36m1\u001b[0m\u001b[0;34m:\u001b[0m\u001b[0;34m\u001b[0m\u001b[0;34m\u001b[0m\u001b[0m\n",
      "\u001b[0;31mIndexError\u001b[0m: list index out of range"
     ]
    }
   ],
   "source": [
    "solution_part1(example)"
   ]
  },
  {
   "cell_type": "code",
   "execution_count": null,
   "metadata": {},
   "outputs": [],
   "source": []
  },
  {
   "cell_type": "code",
   "execution_count": null,
   "metadata": {},
   "outputs": [],
   "source": []
  }
 ],
 "metadata": {
  "interpreter": {
   "hash": "2cee483158916fc04c8c3f14e560d02ab61c5c8db6635e4f6460f777c1a52a62"
  },
  "kernelspec": {
   "display_name": "Python 3.8.12 64-bit ('dmp': conda)",
   "language": "python",
   "name": "python3"
  },
  "language_info": {
   "codemirror_mode": {
    "name": "ipython",
    "version": 3
   },
   "file_extension": ".py",
   "mimetype": "text/x-python",
   "name": "python",
   "nbconvert_exporter": "python",
   "pygments_lexer": "ipython3",
   "version": "3.8.12"
  },
  "orig_nbformat": 4
 },
 "nbformat": 4,
 "nbformat_minor": 2
}
