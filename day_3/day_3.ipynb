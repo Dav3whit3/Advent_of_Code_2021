{
 "cells": [
  {
   "cell_type": "code",
   "execution_count": 1,
   "metadata": {},
   "outputs": [],
   "source": [
    "import sys\n",
    "\n",
    "sys.path.append('../../Advent_of_Code_2021')\n",
    "from utils.tools import input_parser, post_answer, current_stars"
   ]
  },
  {
   "cell_type": "code",
   "execution_count": 2,
   "metadata": {},
   "outputs": [
    {
     "name": "stdout",
     "output_type": "stream",
     "text": [
      "len(res)=1000\n"
     ]
    },
    {
     "data": {
      "text/plain": [
       "['111110110111',\n",
       " '100111000111',\n",
       " '011101111101',\n",
       " '011011010010',\n",
       " '001010001010']"
      ]
     },
     "execution_count": 2,
     "metadata": {},
     "output_type": "execute_result"
    }
   ],
   "source": [
    "res = input_parser(day=3)\n",
    "print(f\"{len(res)=}\")\n",
    "res[:5]"
   ]
  },
  {
   "cell_type": "markdown",
   "metadata": {},
   "source": [
    "### PART 1"
   ]
  },
  {
   "cell_type": "code",
   "execution_count": 3,
   "metadata": {},
   "outputs": [],
   "source": [
    "def part_1(array):\n",
    "    \n",
    "    b_len = len(array[0])\n",
    "    n = len(array) // 2 + 1\n",
    "    print(n)\n",
    "\n",
    "    gamma_rate = ''\n",
    "    epsilon_rate = ''\n",
    "    for bit in range(b_len):\n",
    "        ones = 0\n",
    "        zeros = 0\n",
    "        for bin in array:\n",
    "            if bin[bit] == '1':\n",
    "                ones+=1\n",
    "            else:\n",
    "                zeros+=1\n",
    "            if ones >= n or zeros >= n:\n",
    "                break\n",
    "        if ones > zeros:\n",
    "            gamma_rate += '1'\n",
    "            epsilon_rate += '0'\n",
    "        else:\n",
    "            gamma_rate += '0'\n",
    "            epsilon_rate += '1'\n",
    "\n",
    "    print(f\"{gamma_rate=} , {epsilon_rate=} ---> {int(gamma_rate, 2)=} , {int(epsilon_rate, 2)=}\")\n",
    "    return str(int(gamma_rate, 2) * int(epsilon_rate, 2))"
   ]
  },
  {
   "cell_type": "code",
   "execution_count": 4,
   "metadata": {},
   "outputs": [
    {
     "name": "stdout",
     "output_type": "stream",
     "text": [
      "501\n",
      "gamma_rate='100111011000' , epsilon_rate='011000100111' ---> int(gamma_rate, 2)=2520 , int(epsilon_rate, 2)=1575\n"
     ]
    },
    {
     "data": {
      "text/plain": [
       "'3969000'"
      ]
     },
     "execution_count": 4,
     "metadata": {},
     "output_type": "execute_result"
    }
   ],
   "source": [
    "answer = part_1(res)\n",
    "answer"
   ]
  },
  {
   "cell_type": "code",
   "execution_count": 5,
   "metadata": {},
   "outputs": [
    {
     "name": "stdout",
     "output_type": "stream",
     "text": [
      "['111110110111', '100111000111', '011101111101', '011011010010', '001010001010']\n",
      "12\n",
      "101011000001\n"
     ]
    }
   ],
   "source": [
    "print(res[:5])\n",
    "print(len(res[0]))\n",
    "print(res[-1])"
   ]
  },
  {
   "cell_type": "markdown",
   "metadata": {},
   "source": [
    "### PART 2"
   ]
  },
  {
   "cell_type": "code",
   "execution_count": 6,
   "metadata": {},
   "outputs": [],
   "source": [
    "def part_2(array, type, index=0):\n",
    "    while len(array) > 1:\n",
    "\n",
    "        count = {\n",
    "            \"0\": 0,\n",
    "            \"1\": 0\n",
    "        }\n",
    "\n",
    "        for bin in array:\n",
    "            count[bin[index]] += 1\n",
    "        \n",
    "        if type == 'oxygen':\n",
    "            if count[\"1\"] > count[\"0\"]:\n",
    "                array = [elem for elem in array if elem[index] == '1']\n",
    "            elif count[\"0\"] > count[\"1\"]:\n",
    "                array = [elem for elem in array if elem[index] == '0']\n",
    "            else:\n",
    "                array = [elem for elem in array if elem[index] == '1']\n",
    "\n",
    "            index += 1\n",
    "            if index == 12:\n",
    "                index = 0\n",
    "            return part_2(array=array, type=type, index=index)\n",
    "\n",
    "        elif type == 'co2':\n",
    "            if count[\"1\"] > count[\"0\"]:\n",
    "                array = [elem for elem in array if elem[index] == '0']\n",
    "            elif count[\"0\"] > count[\"1\"]:\n",
    "                array = [elem for elem in array if elem[index] == '1']\n",
    "            else:\n",
    "                array = [elem for elem in array if elem[index] == '0']\n",
    "\n",
    "            index += 1\n",
    "            if index == 12:\n",
    "                index = 0\n",
    "            return part_2(array=array, type=type, index=index)\n",
    "\n",
    "    result = int(array[0], 2)\n",
    "    \n",
    "    return result\n"
   ]
  },
  {
   "cell_type": "code",
   "execution_count": 7,
   "metadata": {},
   "outputs": [
    {
     "data": {
      "text/plain": [
       "'oxygen=2509 * co2=1701 = 4267809'"
      ]
     },
     "execution_count": 7,
     "metadata": {},
     "output_type": "execute_result"
    }
   ],
   "source": [
    "input_copy_1 = input_parser(day=3)\n",
    "oxygen = part_2(input_copy_1, \"oxygen\")\n",
    "\n",
    "input_copy_2 = input_parser(day=3)\n",
    "co2 = part_2(input_copy_2, \"co2\")\n",
    "\n",
    "result = f\"{oxygen=} * {co2=} = {oxygen*co2}\"\n",
    "result"
   ]
  },
  {
   "cell_type": "markdown",
   "metadata": {},
   "source": [
    "post.text"
   ]
  },
  {
   "cell_type": "code",
   "execution_count": null,
   "metadata": {},
   "outputs": [],
   "source": [
    "import webbrowser\n",
    "webbrowser.open(\"https://adventofcode.com/2021/day/3/answer\")"
   ]
  },
  {
   "cell_type": "code",
   "execution_count": 11,
   "metadata": {},
   "outputs": [
    {
     "data": {
      "text/plain": [
       "'soup = BeautifulSoup(r, features=\"lxml\")\\nresult = list(soup.find_all(\"article\"))'"
      ]
     },
     "execution_count": 11,
     "metadata": {},
     "output_type": "execute_result"
    }
   ],
   "source": [
    "from bs4 import BeautifulSoup\n",
    "from utils.env import session_id\n",
    "import requests\n",
    "sys.path.append('../../Advent_of_Code_2021/utils/')\n",
    "s = requests.Session()\n",
    "r = s.get(f\"https://adventofcode.com/2021/day/3/answer\",\n",
    "          cookies={'session': session_id},\n",
    "          data=str(result)).text\n",
    "r\n",
    "\"\"\"soup = BeautifulSoup(r, features=\"lxml\")\n",
    "result = list(soup.find_all(\"article\"))\"\"\"\n"
   ]
  },
  {
   "cell_type": "code",
   "execution_count": 12,
   "metadata": {},
   "outputs": [
    {
     "data": {
      "text/plain": [
       "'<!DOCTYPE html>\\n<html lang=\"en-us\">\\n<head>\\n<meta charset=\"utf-8\"/>\\n<title>Day 3 - Advent of Code 2021</title>\\n<!--[if lt IE 9]><script src=\"/static/html5.js\"></script><![endif]-->\\n<link href=\\'//fonts.googleapis.com/css?family=Source+Code+Pro:300&subset=latin,latin-ext\\' rel=\\'stylesheet\\' type=\\'text/css\\'/>\\n<link rel=\"stylesheet\" type=\"text/css\" href=\"/static/style.css?26\"/>\\n<link rel=\"stylesheet alternate\" type=\"text/css\" href=\"/static/highcontrast.css?0\" title=\"High Contrast\"/>\\n<link rel=\"shortcut icon\" href=\"/favicon.png\"/>\\n</head><!--\\n\\n\\n\\n\\nOh, hello!  Funny seeing you here.\\n\\nI appreciate your enthusiasm, but you aren\\'t going to find much down here.\\nThere certainly aren\\'t clues to any of the puzzles.  The best surprises don\\'t\\neven appear in the source until you unlock them for real.\\n\\nPlease be careful with automated requests; I\\'m not a massive company, and I can\\nonly take so much traffic.  Please be considerate so that everyone gets to play.\\n\\nIf you\\'re curious about how Advent of Code works, it\\'s running on some custom\\nPerl code. Other than a few integrations (auth, analytics, social media), I\\nbuilt the whole thing myself, including the design, animations, prose, and all\\nof the puzzles.\\n\\nThe puzzles are most of the work; preparing a new calendar and a new set of\\npuzzles each year takes all of my free time for 4-5 months. A lot of effort\\nwent into building this thing - I hope you\\'re enjoying playing it as much as I\\nenjoyed making it for you!\\n\\nIf you\\'d like to hang out, I\\'m @ericwastl on Twitter.\\n\\n- Eric Wastl\\n\\n\\n\\n\\n\\n\\n\\n\\n\\n\\n\\n\\n\\n\\n\\n\\n\\n\\n\\n\\n\\n\\n\\n\\n\\n\\n\\n\\n\\n\\n\\n\\n\\n\\n\\n\\n\\n\\n\\n\\n\\n\\n\\n\\n\\n\\n\\n\\n\\n\\n-->\\n<body>\\n<header><div><h1 class=\"title-global\"><a href=\"/\">Advent of Code</a></h1><nav><ul><li><a href=\"/2021/about\">[About]</a></li><li><a href=\"/2021/events\">[Events]</a></li><li><a href=\"https://teespring.com/stores/advent-of-code\" target=\"_blank\">[Shop]</a></li><li><a href=\"/2021/settings\">[Settings]</a></li><li><a href=\"/2021/auth/logout\">[Log Out]</a></li></ul></nav><div class=\"user\">Dav3whit3 <span class=\"star-count\">6*</span></div></div><div><h1 class=\"title-event\">&nbsp;&nbsp;&nbsp;&nbsp;&nbsp;&nbsp;<span class=\"title-event-wrap\">/*</span><a href=\"/2021\">2021</a><span class=\"title-event-wrap\">*/</span></h1><nav><ul><li><a href=\"/2021\">[Calendar]</a></li><li><a href=\"/2021/support\">[AoC++]</a></li><li><a href=\"/2021/sponsors\">[Sponsors]</a></li><li><a href=\"/2021/leaderboard\">[Leaderboard]</a></li><li><a href=\"/2021/stats\">[Stats]</a></li></ul></nav></div></header>\\n\\n<div id=\"sidebar\">\\n<div id=\"sponsor\"><div class=\"quiet\">Our <a href=\"/2021/sponsors\">sponsors</a> help make Advent of Code possible:</div><div class=\"sponsor\"><a href=\"https://www.ing.jobs/Global/Careers/expertise/Tech.htm\" target=\"_blank\" onclick=\"if(ga)ga(\\'send\\',\\'event\\',\\'sponsor\\',\\'sidebar\\',this.href);\" rel=\"noopener\">ING</a> - At ING, you develop software and yourself</div></div>\\n</div><!--/sidebar-->\\n\\n<main>\\n<script>window.addEventListener(\\'click\\', function(e,s,r){if(e.target.nodeName===\\'CODE\\'&&e.detail===3){s=window.getSelection();s.removeAllRanges();r=document.createRange();r.selectNodeContents(e.target);s.addRange(r);}});</script>\\n<article class=\"day-desc\"><h2>--- Day 3: Binary Diagnostic ---</h2><p>The submarine has been making some <span title=\"Turns out oceans are heavy.\">odd creaking noises</span>, so you ask it to produce a diagnostic report just in case.</p>\\n<p>The diagnostic report (your puzzle input) consists of a list of binary numbers which, when decoded properly, can tell you many useful things about the conditions of the submarine. The first parameter to check is the <em>power consumption</em>.</p>\\n<p>You need to use the binary numbers in the diagnostic report to generate two new binary numbers (called the <em>gamma rate</em> and the <em>epsilon rate</em>). The power consumption can then be found by multiplying the gamma rate by the epsilon rate.</p>\\n<p>Each bit in the gamma rate can be determined by finding the <em>most common bit in the corresponding position</em> of all numbers in the diagnostic report. For example, given the following diagnostic report:</p>\\n<pre><code>00100\\n11110\\n10110\\n10111\\n10101\\n01111\\n00111\\n11100\\n10000\\n11001\\n00010\\n01010\\n</code></pre>\\n<p>Considering only the first bit of each number, there are five <code>0</code> bits and seven <code>1</code> bits. Since the most common bit is <code>1</code>, the first bit of the gamma rate is <code>1</code>.</p>\\n<p>The most common second bit of the numbers in the diagnostic report is <code>0</code>, so the second bit of the gamma rate is <code>0</code>.</p>\\n<p>The most common value of the third, fourth, and fifth bits are <code>1</code>, <code>1</code>, and <code>0</code>, respectively, and so the final three bits of the gamma rate are <code>110</code>.</p>\\n<p>So, the gamma rate is the binary number <code>10110</code>, or <code><em>22</em></code> in decimal.</p>\\n<p>The epsilon rate is calculated in a similar way; rather than use the most common bit, the least common bit from each position is used. So, the epsilon rate is <code>01001</code>, or <code><em>9</em></code> in decimal. Multiplying the gamma rate (<code>22</code>) by the epsilon rate (<code>9</code>) produces the power consumption, <code><em>198</em></code>.</p>\\n<p>Use the binary numbers in your diagnostic report to calculate the gamma rate and epsilon rate, then multiply them together. <em>What is the power consumption of the submarine?</em> (Be sure to represent your answer in decimal, not binary.)</p>\\n</article>\\n<p>Your puzzle answer was <code>3969000</code>.</p><article class=\"day-desc\"><h2 id=\"part2\">--- Part Two ---</h2><p>Next, you should verify the <em>life support rating</em>, which can be determined by multiplying the <em>oxygen generator rating</em> by the <em>CO2 scrubber rating</em>.</p>\\n<p>Both the oxygen generator rating and the CO2 scrubber rating are values that can be found in your diagnostic report - finding them is the tricky part. Both values are located using a similar process that involves filtering out values until only one remains. Before searching for either rating value, start with the full list of binary numbers from your diagnostic report and <em>consider just the first bit</em> of those numbers. Then:</p>\\n<ul>\\n<li>Keep only numbers selected by the <em>bit criteria</em> for the type of rating value for which you are searching. Discard numbers which do not match the bit criteria.</li>\\n<li>If you only have one number left, stop; this is the rating value for which you are searching.</li>\\n<li>Otherwise, repeat the process, considering the next bit to the right.</li>\\n</ul>\\n<p>The <em>bit criteria</em> depends on which type of rating value you want to find:</p>\\n<ul>\\n<li>To find <em>oxygen generator rating</em>, determine the <em>most common</em> value (<code>0</code> or <code>1</code>) in the current bit position, and keep only numbers with that bit in that position. If <code>0</code> and <code>1</code> are equally common, keep values with a <code><em>1</em></code> in the position being considered.</li>\\n<li>To find <em>CO2 scrubber rating</em>, determine the <em>least common</em> value (<code>0</code> or <code>1</code>) in the current bit position, and keep only numbers with that bit in that position. If <code>0</code> and <code>1</code> are equally common, keep values with a <code><em>0</em></code> in the position being considered.</li>\\n</ul>\\n<p>For example, to determine the <em>oxygen generator rating</em> value using the same example diagnostic report from above:</p>\\n<ul>\\n<li>Start with all 12 numbers and consider only the first bit of each number. There are more <code>1</code> bits (7) than <code>0</code> bits (5), so keep only the 7 numbers with a <code>1</code> in the first position: <code>11110</code>, <code>10110</code>, <code>10111</code>, <code>10101</code>, <code>11100</code>, <code>10000</code>, and <code>11001</code>.</li>\\n<li>Then, consider the second bit of the 7 remaining numbers: there are more <code>0</code> bits (4) than <code>1</code> bits (3), so keep only the 4 numbers with a <code>0</code> in the second position: <code>10110</code>, <code>10111</code>, <code>10101</code>, and <code>10000</code>.</li>\\n<li>In the third position, three of the four numbers have a <code>1</code>, so keep those three: <code>10110</code>, <code>10111</code>, and <code>10101</code>.</li>\\n<li>In the fourth position, two of the three numbers have a <code>1</code>, so keep those two: <code>10110</code> and <code>10111</code>.</li>\\n<li>In the fifth position, there are an equal number of <code>0</code> bits and <code>1</code> bits (one each). So, to find the <em>oxygen generator rating</em>, keep the number with a <code>1</code> in that position: <code>10111</code>.</li>\\n<li>As there is only one number left, stop; the <em>oxygen generator rating</em> is <code>10111</code>, or <code><em>23</em></code> in decimal.</li>\\n</ul>\\n<p>Then, to determine the <em>CO2 scrubber rating</em> value from the same example above:</p>\\n<ul>\\n<li>Start again with all 12 numbers and consider only the first bit of each number. There are fewer <code>0</code> bits (5) than <code>1</code> bits (7), so keep only the 5 numbers with a <code>0</code> in the first position: <code>00100</code>, <code>01111</code>, <code>00111</code>, <code>00010</code>, and <code>01010</code>.</li>\\n<li>Then, consider the second bit of the 5 remaining numbers: there are fewer <code>1</code> bits (2) than <code>0</code> bits (3), so keep only the 2 numbers with a <code>1</code> in the second position: <code>01111</code> and <code>01010</code>.</li>\\n<li>In the third position, there are an equal number of <code>0</code> bits and <code>1</code> bits (one each). So, to find the <em>CO2 scrubber rating</em>, keep the number with a <code>0</code> in that position: <code>01010</code>.</li>\\n<li>As there is only one number left, stop; the <em>CO2 scrubber rating</em> is <code>01010</code>, or <code><em>10</em></code> in decimal.</li>\\n</ul>\\n<p>Finally, to find the life support rating, multiply the oxygen generator rating (<code>23</code>) by the CO2 scrubber rating (<code>10</code>) to get <code><em>230</em></code>.</p>\\n<p>Use the binary numbers in your diagnostic report to calculate the oxygen generator rating and CO2 scrubber rating, then multiply them together. <em>What is the life support rating of the submarine?</em> (Be sure to represent your answer in decimal, not binary.)</p>\\n</article>\\n<p>Your puzzle answer was <code>4267809</code>.</p><p class=\"day-success\">Both parts of this puzzle are complete! They provide two gold stars: **</p>\\n<p>At this point, you should <a href=\"/2021\">return to your Advent calendar</a> and try another puzzle.</p>\\n<p>If you still want to see it, you can <a href=\"3/input\" target=\"_blank\">get your puzzle input</a>.</p>\\n<p>You can also <span class=\"share\">[Share<span class=\"share-content\">on\\n  <a href=\"https://twitter.com/intent/tweet?text=I%27ve+completed+%22Binary+Diagnostic%22+%2D+Day+3+%2D+Advent+of+Code+2021&amp;url=https%3A%2F%2Fadventofcode%2Ecom%2F2021%2Fday%2F3&amp;related=ericwastl&amp;hashtags=AdventOfCode\" target=\"_blank\">Twitter</a>\\n  <a href=\"javascript:void(0);\" onclick=\"var mastodon_instance=prompt(\\'Mastodon Instance / Server Name?\\'); if(typeof mastodon_instance===\\'string\\' && mastodon_instance.length){this.href=\\'https://\\'+mastodon_instance+\\'/share?text=I%27ve+completed+%22Binary+Diagnostic%22+%2D+Day+3+%2D+Advent+of+Code+2021+%23AdventOfCode+https%3A%2F%2Fadventofcode%2Ecom%2F2021%2Fday%2F3\\'}else{return false;}\" target=\"_blank\">Mastodon</a\\n></span>]</span> this puzzle.</p>\\n</main>\\n\\n<!-- ga -->\\n<script>\\n(function(i,s,o,g,r,a,m){i[\\'GoogleAnalyticsObject\\']=r;i[r]=i[r]||function(){\\n(i[r].q=i[r].q||[]).push(arguments)},i[r].l=1*new Date();a=s.createElement(o),\\nm=s.getElementsByTagName(o)[0];a.async=1;a.src=g;m.parentNode.insertBefore(a,m)\\n})(window,document,\\'script\\',\\'//www.google-analytics.com/analytics.js\\',\\'ga\\');\\nga(\\'create\\', \\'UA-69522494-1\\', \\'auto\\');\\nga(\\'set\\', \\'anonymizeIp\\', true);\\nga(\\'send\\', \\'pageview\\');\\n</script>\\n<!-- /ga -->\\n</body>\\n</html>'"
      ]
     },
     "execution_count": 12,
     "metadata": {},
     "output_type": "execute_result"
    }
   ],
   "source": [
    "r"
   ]
  },
  {
   "cell_type": "code",
   "execution_count": null,
   "metadata": {},
   "outputs": [],
   "source": []
  }
 ],
 "metadata": {
  "interpreter": {
   "hash": "2cee483158916fc04c8c3f14e560d02ab61c5c8db6635e4f6460f777c1a52a62"
  },
  "kernelspec": {
   "display_name": "Python 3.8.12 64-bit ('dmp': conda)",
   "language": "python",
   "name": "python3"
  },
  "language_info": {
   "codemirror_mode": {
    "name": "ipython",
    "version": 3
   },
   "file_extension": ".py",
   "mimetype": "text/x-python",
   "name": "python",
   "nbconvert_exporter": "python",
   "pygments_lexer": "ipython3",
   "version": "3.8.12"
  },
  "orig_nbformat": 4
 },
 "nbformat": 4,
 "nbformat_minor": 2
}
