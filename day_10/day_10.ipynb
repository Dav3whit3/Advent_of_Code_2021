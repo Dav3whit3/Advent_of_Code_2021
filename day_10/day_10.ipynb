{
 "cells": [
  {
   "cell_type": "code",
   "execution_count": null,
   "metadata": {},
   "outputs": [],
   "source": [
    "import sys\n",
    "sys.path.append('/Users/davidblanco/Documents/personal/Advent_of_Code_2021')\n",
    "from utils.tools import input_parser, post_answer, current_stars\n",
    "from collections import deque\n",
    "from functools import reduce"
   ]
  },
  {
   "cell_type": "code",
   "execution_count": null,
   "metadata": {},
   "outputs": [],
   "source": [
    "input_10 = input_parser(day=10)\n",
    "len(input_10)"
   ]
  },
  {
   "cell_type": "code",
   "execution_count": null,
   "metadata": {},
   "outputs": [],
   "source": [
    "def penalty(char, part=1):\n",
    "    if char == \")\":\n",
    "        print(f\"Char: '{char}. Penalty = 3\")\n",
    "        return 3 if part == 1 else 1\n",
    "    elif char == \"]\":\n",
    "        print(f\"Char: '{char}. Penalty = 57\")\n",
    "        return 57 if part == 1 else 2\n",
    "    elif char == \"}\":\n",
    "        print(f\"Char: '{char}. Penalty = 1197\")\n",
    "        return 1197 if part == 1 else 3\n",
    "    elif char == \">\":\n",
    "        print(f\"Char: '{char}. Penalty = 25137\")\n",
    "        return 25137 if part == 1 else 4\n"
   ]
  },
  {
   "cell_type": "code",
   "execution_count": null,
   "metadata": {},
   "outputs": [],
   "source": []
  },
  {
   "cell_type": "code",
   "execution_count": null,
   "metadata": {},
   "outputs": [],
   "source": [
    "open = [\"(\", \"<\", \"[\", \"{\"]\n",
    "close = [\")\", \">\", \"]\", \"}\"]\n",
    "\n",
    "ex = [\"[({(<(())[]>[[{[]{<()<>>\",\n",
    "\"[(()[<>])]({[<{<<[]>>(\",\n",
    "\"{([(<{}[<>[]}>{[]{[(<()>\",\n",
    "\"(((({<>}<{<{<>}{[]{[]{}\",\n",
    "\"[[<[([]))<([[{}[[()]]]\",\n",
    "\"[{[{({}]{}}([{[{{{}}([]\",\n",
    "\"{<[[]]>}<{[{[{[]{()[[[]\",\n",
    "\"[<(<(<(<{}))><([]([]()\",\n",
    "\"<{([([[(<>()){}]>(<<{{\",\n",
    "\"<{([{{}}[<[[[<>{}]]]>[]]\"\n",
    "]\n"
   ]
  },
  {
   "cell_type": "code",
   "execution_count": null,
   "metadata": {},
   "outputs": [],
   "source": [
    "def solution(data, part=1):\n",
    "    open_chars = [\"(\", \"<\", \"[\", \"{\"]\n",
    "    close_chars = [\")\", \">\", \"]\", \"}\"]\n",
    "    \n",
    "    illegal_chars = []\n",
    "    incomplete_score = 0\n",
    "\n",
    "    for line in data:\n",
    "        open_stack = []\n",
    "\n",
    "        for char in line:\n",
    "\n",
    "            if char in open_chars:\n",
    "                open_stack.append(char)\n",
    "            \n",
    "            if char in close_chars:\n",
    "                if open_chars.index(open_stack[-1]) == close_chars.index(char):\n",
    "                    open_stack.pop(-1)\n",
    "                else:\n",
    "                    illegal_chars.append(char)\n",
    "                    break\n",
    "            \n",
    "            # [close_chars.index(op) for op in open_stack]\n",
    "\n",
    "            gg = 0 *\n",
    "        \n",
    "\n",
    "    if part == 1:\n",
    "        return reduce(lambda a,b: a + penalty(b), illegal_chars, 0), illegal_chars.clear()\n",
    "\n",
    "    return 0\n"
   ]
  },
  {
   "cell_type": "code",
   "execution_count": null,
   "metadata": {},
   "outputs": [],
   "source": [
    "solution(ex, part=1)"
   ]
  },
  {
   "cell_type": "code",
   "execution_count": null,
   "metadata": {},
   "outputs": [],
   "source": [
    "len(\"[({(<(())[]>[[{[]{<()<>>\")"
   ]
  },
  {
   "cell_type": "code",
   "execution_count": null,
   "metadata": {},
   "outputs": [],
   "source": [
    "print([']', ')', '}', ')', ']', ']', '}', '}'].reverse())"
   ]
  },
  {
   "cell_type": "code",
   "execution_count": null,
   "metadata": {},
   "outputs": [],
   "source": [
    "reversed([']', ')', '}', ')', ']', ']', '}', '}'])"
   ]
  },
  {
   "cell_type": "code",
   "execution_count": null,
   "metadata": {},
   "outputs": [],
   "source": [
    "list(reversed([']', ')', '}', ')', ']', ']', '}', '}']))"
   ]
  },
  {
   "cell_type": "code",
   "execution_count": null,
   "metadata": {},
   "outputs": [],
   "source": [
    "CLOSED_CHARS = [\")\", \">\", \"]\", \"}\"]\n",
    "sorted(CLOSED_CHARS)"
   ]
  },
  {
   "cell_type": "code",
   "execution_count": null,
   "metadata": {},
   "outputs": [],
   "source": [
    "incomplete = \"[({(<(())[]>[[{[]{<()<>>\"\n",
    "corrupted = \"{([(<{}[<>[]}>{[]{[(<()>\"\n",
    "\n",
    "open = [\"(\", \"<\", \"[\", \"{\"]\n",
    "close = [\")\", \">\", \"]\", \"}\"]"
   ]
  },
  {
   "cell_type": "code",
   "execution_count": 33,
   "metadata": {},
   "outputs": [
    {
     "name": "stdout",
     "output_type": "stream",
     "text": [
      "o=16  c=8\n"
     ]
    }
   ],
   "source": [
    "o = 0\n",
    "c = 0\n",
    "for char in corrupted:\n",
    "    if char in open:\n",
    "        o += 1\n",
    "    elif char in close:\n",
    "        c += 1\n",
    "\n",
    "print(f\"{o=}  {c=}\")"
   ]
  },
  {
   "cell_type": "code",
   "execution_count": null,
   "metadata": {},
   "outputs": [],
   "source": []
  }
 ],
 "metadata": {
  "interpreter": {
   "hash": "2cee483158916fc04c8c3f14e560d02ab61c5c8db6635e4f6460f777c1a52a62"
  },
  "kernelspec": {
   "display_name": "Python 3.8.12 64-bit ('dmp': conda)",
   "language": "python",
   "name": "python3"
  },
  "language_info": {
   "codemirror_mode": {
    "name": "ipython",
    "version": 3
   },
   "file_extension": ".py",
   "mimetype": "text/x-python",
   "name": "python",
   "nbconvert_exporter": "python",
   "pygments_lexer": "ipython3",
   "version": "3.8.12"
  },
  "orig_nbformat": 4
 },
 "nbformat": 4,
 "nbformat_minor": 2
}
