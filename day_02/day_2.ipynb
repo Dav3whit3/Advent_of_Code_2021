{
 "cells": [
  {
   "cell_type": "code",
   "execution_count": 1,
   "metadata": {},
   "outputs": [],
   "source": [
    "import requests\n",
    "import sys\n",
    "sys.path.append('/Users/davidblanco/Documents/personal/Advent_of_Code_2021')\n",
    "from utils.tools import input_parser, current_stars"
   ]
  },
  {
   "cell_type": "code",
   "execution_count": 2,
   "metadata": {},
   "outputs": [],
   "source": [
    "res = input_parser(day=2)"
   ]
  },
  {
   "cell_type": "markdown",
   "metadata": {},
   "source": [
    "### PART 1"
   ]
  },
  {
   "cell_type": "code",
   "execution_count": 3,
   "metadata": {},
   "outputs": [
    {
     "name": "stdout",
     "output_type": "stream",
     "text": [
      "The input array (list of ints) '[forward 8, forward 3, forward 8,...]' is 1000 elements long\n"
     ]
    },
    {
     "data": {
      "text/plain": [
       "1383564"
      ]
     },
     "execution_count": 3,
     "metadata": {},
     "output_type": "execute_result"
    }
   ],
   "source": [
    "input_copy = res.copy()\n",
    "print(f\"The input array (list of ints) '[{res[0]}, {res[1]}, {res[2]},...]' is {len(res)} elements long\")\n",
    "def final_position_loop(array: list,) -> int:\n",
    "\n",
    "    pos = {\"d\": 0,\n",
    "           \"h\": 0, }\n",
    "    \n",
    "    while len(array):\n",
    "\n",
    "        sp = array[0].split(\" \")\n",
    "        sp[1] = int(sp[1])\n",
    "\n",
    "        if sp[0] == 'down':\n",
    "            pos['d'] += sp[1]\n",
    "        elif sp[0] == 'up':\n",
    "            pos['d'] -= sp[1]\n",
    "        else:\n",
    "            pos['h'] += sp[1]\n",
    "        array.pop(0)\n",
    "    return pos['h'] * pos['d']\n",
    "\n",
    "final_position_loop(input_copy)"
   ]
  },
  {
   "cell_type": "code",
   "execution_count": 4,
   "metadata": {},
   "outputs": [
    {
     "name": "stdout",
     "output_type": "stream",
     "text": [
      "The input array (list of ints) '[forward 8, forward 3, forward 8,...]' is 1000 elements long\n"
     ]
    },
    {
     "data": {
      "text/plain": [
       "1383564"
      ]
     },
     "execution_count": 4,
     "metadata": {},
     "output_type": "execute_result"
    }
   ],
   "source": [
    "input_copy = res.copy()\n",
    "print(\n",
    "    f\"The input array (list of ints) '[{res[0]}, {res[1]}, {res[2]},...]' is {len(res)} elements long\")\n",
    "\n",
    "\n",
    "def final_position_rec(array: list,\n",
    "                       pos={\"forward\": 0,\n",
    "                            \"up\": 0,\n",
    "                            'down': 0}) -> int:\n",
    "    if array:\n",
    "        move = array[0].split(\" \")\n",
    "        pos[move[0]] += int(move[1])\n",
    "        array.pop(0)\n",
    "        return final_position_rec(array, pos)\n",
    "    return pos['forward'] * abs((pos['up'] - pos['down']))\n",
    "\n",
    "\n",
    "final_position_rec(input_copy)\n",
    "#timeit final_position_rec(res)\n"
   ]
  },
  {
   "cell_type": "code",
   "execution_count": null,
   "metadata": {},
   "outputs": [],
   "source": []
  },
  {
   "cell_type": "markdown",
   "metadata": {},
   "source": [
    "### PART 2"
   ]
  },
  {
   "cell_type": "code",
   "execution_count": 5,
   "metadata": {},
   "outputs": [
    {
     "data": {
      "text/plain": [
       "1488311643"
      ]
     },
     "execution_count": 5,
     "metadata": {},
     "output_type": "execute_result"
    }
   ],
   "source": [
    "def final_position_loop(array: list,) -> int:\n",
    "\n",
    "    pos = {\"d\": 0,\n",
    "           \"h\": 0,\n",
    "           \"a\":0 }\n",
    "    \n",
    "    while len(array):\n",
    "\n",
    "        sp = array[0].split(\" \")\n",
    "        sp[1] = int(sp[1])\n",
    "\n",
    "        if sp[0] == 'down':\n",
    "            pos['a'] += sp[1]\n",
    "        elif sp[0] == 'up':\n",
    "            pos['a'] -= sp[1]\n",
    "        else:\n",
    "            pos['h'] += sp[1]\n",
    "            pos['d'] = pos['d'] + (pos['a'] * sp[1])\n",
    "        array.pop(0)\n",
    "    return pos['h'] * pos['d']\n",
    "\n",
    "final_position_loop(res)"
   ]
  },
  {
   "cell_type": "code",
   "execution_count": 3,
   "metadata": {},
   "outputs": [
    {
     "data": {
      "text/plain": [
       "'Dav3whit3 : 4*'"
      ]
     },
     "execution_count": 3,
     "metadata": {},
     "output_type": "execute_result"
    }
   ],
   "source": [
    "current_stars()"
   ]
  },
  {
   "cell_type": "code",
   "execution_count": null,
   "metadata": {},
   "outputs": [],
   "source": []
  }
 ],
 "metadata": {
  "interpreter": {
   "hash": "2cee483158916fc04c8c3f14e560d02ab61c5c8db6635e4f6460f777c1a52a62"
  },
  "kernelspec": {
   "display_name": "Python 3.8.12 64-bit ('dmp': conda)",
   "language": "python",
   "name": "python3"
  },
  "language_info": {
   "codemirror_mode": {
    "name": "ipython",
    "version": 3
   },
   "file_extension": ".py",
   "mimetype": "text/x-python",
   "name": "python",
   "nbconvert_exporter": "python",
   "pygments_lexer": "ipython3",
   "version": "3.8.12"
  },
  "orig_nbformat": 4
 },
 "nbformat": 4,
 "nbformat_minor": 2
}
