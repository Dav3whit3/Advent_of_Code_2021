{
 "cells": [
  {
   "cell_type": "code",
   "execution_count": 4,
   "metadata": {},
   "outputs": [],
   "source": [
    "import numpy as np\n",
    "from functools import reduce\n",
    "import requests\n",
    "import sys\n",
    "\n",
    "sys.path.append('/Users/davidblanco/Documents/personal/Advent_of_Code_2021')\n",
    "from utils.tools import input_parser\n"
   ]
  },
  {
   "cell_type": "code",
   "execution_count": 5,
   "metadata": {},
   "outputs": [
    {
     "data": {
      "text/plain": [
       "['104', '105', '109', '120', '124']"
      ]
     },
     "execution_count": 5,
     "metadata": {},
     "output_type": "execute_result"
    }
   ],
   "source": [
    "depths = input_parser(day=1)\n",
    "depths[:5]"
   ]
  },
  {
   "cell_type": "markdown",
   "metadata": {},
   "source": [
    "# PART 1"
   ]
  },
  {
   "cell_type": "code",
   "execution_count": null,
   "metadata": {},
   "outputs": [],
   "source": [
    "len(depths)"
   ]
  },
  {
   "cell_type": "code",
   "execution_count": null,
   "metadata": {},
   "outputs": [],
   "source": [
    "from functools import reduce\n",
    "reduce(lambda a, b: a+1 if b>0 else a+0, np.diff(depths), 0)"
   ]
  },
  {
   "cell_type": "markdown",
   "metadata": {},
   "source": [
    "# PART 2"
   ]
  },
  {
   "cell_type": "code",
   "execution_count": null,
   "metadata": {},
   "outputs": [],
   "source": [
    "def c_reduce(arr, start_1, stop_1, start_2, stop_2):\n",
    "    return reduce(lambda a, b: a+b, arr[start_2 : stop_2]) > reduce(lambda a, b: a+b, arr[start_1 : stop_1])"
   ]
  },
  {
   "cell_type": "code",
   "execution_count": null,
   "metadata": {},
   "outputs": [],
   "source": [
    "print(f\"{depths[:7]}...\")\n",
    "print(len(depths))"
   ]
  },
  {
   "cell_type": "code",
   "execution_count": null,
   "metadata": {},
   "outputs": [],
   "source": [
    "\"\"\" FOR LOOP \"\"\"\n",
    "def windows_slide_counter(depths):\n",
    "    counter = 0\n",
    "    for index, elem in enumerate(depths):\n",
    "        if len(depths) - index < 4:\n",
    "            break\n",
    "        if c_reduce(depths, index, index+3, index+1, index+4): # Custom function which returns Bool if next 3-element-window of the array is bigger than the current one\n",
    "            counter += 1\n",
    "    return counter\n",
    "\n",
    "%timeit windows_slide_counter(depths)"
   ]
  },
  {
   "cell_type": "code",
   "execution_count": null,
   "metadata": {},
   "outputs": [],
   "source": [
    "\"\"\" RECURSION \"\"\"\n",
    "def windows_slide_counter(d, counter=0):\n",
    "    if len(d) >= 3:\n",
    "        if c_reduce(depths, 0, 3, 1, 4): # Custom function which returns Bool if next 3-element-window of the array is bigger than the current one\n",
    "            counter += 1\n",
    "        d.pop(0)\n",
    "        return windows_slide_counter(d, counter)    \n",
    "    return counter\n",
    "\n",
    "%timeit windows_slide_counter(depths)"
   ]
  },
  {
   "cell_type": "code",
   "execution_count": null,
   "metadata": {},
   "outputs": [],
   "source": [
    "\"\"\"1 Milisegundos = 1000000 Nanosegundos\"\"\"\n",
    "\n",
    "for_loop = 2.28 # MILISECONDS\n",
    "recursive = 105 # NANOSECONDS\n",
    "\n",
    "NS_foor_loop = for_loop * 1000000\n",
    "\n",
    "print(f\"{NS_foor_loop=}ns and {recursive=}ns\")\n",
    "\n",
    "print(f\"{round(NS_foor_loop / recursive * 100, 2)}%\")"
   ]
  },
  {
   "cell_type": "code",
   "execution_count": null,
   "metadata": {},
   "outputs": [],
   "source": [
    "from IPython.display import Image\n",
    "Image(\"result.png\")"
   ]
  },
  {
   "cell_type": "code",
   "execution_count": null,
   "metadata": {},
   "outputs": [],
   "source": []
  }
 ],
 "metadata": {
  "interpreter": {
   "hash": "2cee483158916fc04c8c3f14e560d02ab61c5c8db6635e4f6460f777c1a52a62"
  },
  "kernelspec": {
   "display_name": "Python 3.8.12 64-bit ('dmp': conda)",
   "language": "python",
   "name": "python3"
  },
  "language_info": {
   "codemirror_mode": {
    "name": "ipython",
    "version": 3
   },
   "file_extension": ".py",
   "mimetype": "text/x-python",
   "name": "python",
   "nbconvert_exporter": "python",
   "pygments_lexer": "ipython3",
   "version": "3.8.12"
  },
  "orig_nbformat": 4
 },
 "nbformat": 4,
 "nbformat_minor": 2
}
