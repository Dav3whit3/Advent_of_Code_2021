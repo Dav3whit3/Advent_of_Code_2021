{
 "cells": [
  {
   "cell_type": "code",
   "execution_count": 8,
   "metadata": {},
   "outputs": [],
   "source": [
    "\n",
    "import sys\n",
    "sys.path.append('/Users/davidblanco/Documents/personal/Advent_of_Code_2021')\n",
    "from utils.tools import input_parser, post_answer, current_stars\n",
    "import numpy as np"
   ]
  },
  {
   "cell_type": "code",
   "execution_count": 9,
   "metadata": {},
   "outputs": [
    {
     "name": "stdout",
     "output_type": "stream",
     "text": [
      "Dav3whit3 : 9*\n"
     ]
    },
    {
     "name": "stderr",
     "output_type": "stream",
     "text": [
      "100%|██████████| 11/11 [00:00<00:00, 88048.37it/s]"
     ]
    },
    {
     "name": "stdout",
     "output_type": "stream",
     "text": [
      "part_1_example=12\n"
     ]
    },
    {
     "name": "stderr",
     "output_type": "stream",
     "text": [
      "\n"
     ]
    }
   ],
   "source": [
    "import sys\n",
    "sys.path.append('/Users/davidblanco/Documents/personal/Advent_of_Code_2021')\n",
    "from tqdm import tqdm\n",
    "from utils.tools import input_parser, post_answer, current_stars\n",
    "\n",
    "\n",
    "def input_wrangler(lst, simple=False):\n",
    "\n",
    "    result = []\n",
    "\n",
    "    for elem in lst:\n",
    "        sp = elem.split(\" -> \")\n",
    "        f = sp[0].split(\",\")\n",
    "        s = sp[1].split(\",\")\n",
    "        x1, y1 = f[0], f[1]\n",
    "        x2, y2 = s[0], s[1]\n",
    "        if simple:\n",
    "            if x1 == x2 or y1 == y2:\n",
    "                result.append([int(x1), int(y1), int(x2), int(y2)])\n",
    "        else:\n",
    "            result.append([int(x1), int(y1), int(x2), int(y2)])\n",
    "\n",
    "    return result\n",
    "\n",
    "\n",
    "def day_5(data, full=False):\n",
    "\n",
    "    LST = list()\n",
    "    SET = set()\n",
    "\n",
    "    for elem in tqdm(data):\n",
    "        \n",
    "        x1, y1, x2, y2 = elem[0], elem[1], elem[2], elem[3]\n",
    "\n",
    "        if y1 == y2:\n",
    "            inner = abs(x1 - x2) + 1\n",
    "            m = min(x1, x2)\n",
    "\n",
    "            for i in range(inner):\n",
    "                coords = (m+i, y2)\n",
    "                if coords in LST:\n",
    "                    SET.add(coords)\n",
    "                LST.append(coords)\n",
    "\n",
    "        elif x1 == x2:\n",
    "            inner = abs(y1 - y2) + 1\n",
    "            m = min(y1, y2)\n",
    "            for i in range(inner):\n",
    "                coords = (x1, m+i)\n",
    "                if coords in LST:\n",
    "                    SET.add(coords)\n",
    "                LST.append(coords)\n",
    "        if full:\n",
    "            diff_x = abs(x1 - x2)\n",
    "            diff_y = abs(y1 - y2)\n",
    "            if diff_x == diff_y:\n",
    "                start_x = x1 if x1 < x2 else x2\n",
    "                start_y = y1 if x1 < x2 else y2\n",
    "\n",
    "                for i in range(diff_x + 1):\n",
    "                    coords = (start_x + i , start_y + i)\n",
    "                    if coords in LST:\n",
    "                        SET.add(coords)\n",
    "                    LST.append(coords)\n",
    "\n",
    "    return len(SET)\n",
    "\n",
    "\n",
    "\n",
    "\n",
    "if __name__ == '__main__':\n",
    "    example = [\n",
    "        \"0,9 -> 5,9\",\n",
    "        \"8,0 -> 0,8\",\n",
    "        \"9,4 -> 3,4\",\n",
    "        \"2,2 -> 2,1\",\n",
    "        \"7,0 -> 7,4\",\n",
    "        \"6,4 -> 2,0\",\n",
    "        \"0,9 -> 2,9\",\n",
    "        \"3,4 -> 1,4\",\n",
    "        \"0,0 -> 8,8\",\n",
    "        \"5,5 -> 8,2\",\n",
    "        \"2,9 -> 2,9\"\n",
    "    ]\n",
    "    print(current_stars())\n",
    "    EXAMPLE = input_wrangler(example)\n",
    "    inPut = input_parser(day=5)\n",
    "    simple_input = input_wrangler(inPut)\n",
    "    complex_input = input_wrangler(inPut)\n",
    "\n",
    "    part_1_example = day_5(EXAMPLE, full=True)\n",
    "    # part_1_result = day_5(complex_input)\n",
    "    # part_2_result = day_5(complex_input ,full=True)\n",
    "\n",
    "    print(f\"{part_1_example=}\")\n",
    "    # print(f\"{part_1_result=}\")\n",
    "    # print(f\"{part_2_result=}\")\n",
    "    # print(f\"{part_2_result+part_1_result=}\")\n",
    "\n"
   ]
  }
 ],
 "metadata": {
  "interpreter": {
   "hash": "2cee483158916fc04c8c3f14e560d02ab61c5c8db6635e4f6460f777c1a52a62"
  },
  "kernelspec": {
   "display_name": "Python 3.8.12 64-bit ('dmp': conda)",
   "language": "python",
   "name": "python3"
  },
  "language_info": {
   "codemirror_mode": {
    "name": "ipython",
    "version": 3
   },
   "file_extension": ".py",
   "mimetype": "text/x-python",
   "name": "python",
   "nbconvert_exporter": "python",
   "pygments_lexer": "ipython3",
   "version": "3.8.12"
  },
  "orig_nbformat": 4
 },
 "nbformat": 4,
 "nbformat_minor": 2
}
