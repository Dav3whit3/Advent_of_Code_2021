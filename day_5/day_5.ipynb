{
 "cells": [
  {
   "cell_type": "code",
   "execution_count": null,
   "metadata": {},
   "outputs": [],
   "source": [
    "\n",
    "import sys\n",
    "sys.path.append('/Users/davidblanco/Documents/personal/Advent_of_Code_2021')\n",
    "from utils.tools import input_parser, post_answer, current_stars\n",
    "import numpy as np"
   ]
  },
  {
   "cell_type": "code",
   "execution_count": null,
   "metadata": {},
   "outputs": [],
   "source": [
    "def input_wrangler(lst, simple=False):\n",
    "    result = []\n",
    "    for elem in lst:\n",
    "        sp = elem.split(\" -> \")\n",
    "        if simple:\n",
    "            x1, y1 = sp[0].split(\",\")[0], sp[0].split(\",\")[1]\n",
    "            x2, y2 = sp[1].split(\",\")[0], sp[1].split(\",\")[1]\n",
    "\n",
    "            if x1 == x2 or y1 == y2:\n",
    "                result.append(f\"{sp[0]},{sp[1]}\")\n",
    "        else:\n",
    "            result.append(f\"{sp[0]},{sp[1]}\")\n",
    "\n",
    "    return result"
   ]
  },
  {
   "cell_type": "code",
   "execution_count": null,
   "metadata": {},
   "outputs": [],
   "source": [
    "inPut = input_parser(day=5)\n",
    "print(f\"{len(inPut)=}\")\n",
    "print(inPut)"
   ]
  },
  {
   "cell_type": "code",
   "execution_count": null,
   "metadata": {},
   "outputs": [],
   "source": [
    "input_parsed = input_wrangler(inPut, simple=True)\n",
    "print(f\"{len(input_parsed)=}\")\n",
    "print(input_parsed)"
   ]
  },
  {
   "cell_type": "code",
   "execution_count": null,
   "metadata": {},
   "outputs": [],
   "source": []
  }
 ],
 "metadata": {
  "interpreter": {
   "hash": "2cee483158916fc04c8c3f14e560d02ab61c5c8db6635e4f6460f777c1a52a62"
  },
  "kernelspec": {
   "display_name": "Python 3.8.12 64-bit ('dmp': conda)",
   "language": "python",
   "name": "python3"
  },
  "language_info": {
   "codemirror_mode": {
    "name": "ipython",
    "version": 3
   },
   "file_extension": ".py",
   "mimetype": "text/x-python",
   "name": "python",
   "nbconvert_exporter": "python",
   "pygments_lexer": "ipython3",
   "version": "3.8.12"
  },
  "orig_nbformat": 4
 },
 "nbformat": 4,
 "nbformat_minor": 2
}
